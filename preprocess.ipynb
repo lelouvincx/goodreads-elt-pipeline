{
 "cells": [
  {
   "cell_type": "code",
   "execution_count": 1,
   "metadata": {},
   "outputs": [],
   "source": [
    "import polars as pl"
   ]
  },
  {
   "cell_type": "code",
   "execution_count": 2,
   "metadata": {},
   "outputs": [
    {
     "data": {
      "text/plain": [
       "(1850310, 20)"
      ]
     },
     "execution_count": 2,
     "metadata": {},
     "output_type": "execute_result"
    }
   ],
   "source": [
    "books_df = pl.read_csv(\"dataset/full_dataset.csv\")\n",
    "books_df.shape"
   ]
  },
  {
   "cell_type": "code",
   "execution_count": 3,
   "metadata": {},
   "outputs": [
    {
     "data": {
      "text/plain": [
       "(1850198, 20)"
      ]
     },
     "execution_count": 3,
     "metadata": {},
     "output_type": "execute_result"
    }
   ],
   "source": [
    "books_df = books_df.unique()\n",
    "books_df.shape # Reduce 224/2 = 112 rows"
   ]
  },
  {
   "cell_type": "code",
   "execution_count": 4,
   "metadata": {},
   "outputs": [],
   "source": [
    "low = books_df.filter(books_df['PublishYear'] < 1700).shape[0]\n",
    "high = books_df.filter(books_df['PublishYear'] > 2021).shape[0]"
   ]
  },
  {
   "cell_type": "code",
   "execution_count": 5,
   "metadata": {},
   "outputs": [
    {
     "data": {
      "text/plain": [
       "(1850149, 20)"
      ]
     },
     "execution_count": 5,
     "metadata": {},
     "output_type": "execute_result"
    }
   ],
   "source": [
    "books_df = books_df[low:len(books_df)-high]\n",
    "books_df.shape"
   ]
  },
  {
   "cell_type": "code",
   "execution_count": 6,
   "metadata": {},
   "outputs": [],
   "source": [
    "books_df = books_df.with_columns(books_df['Language'].str.replace('en-US', 'eng')\n",
    "                                                    .str.replace('en-GB', 'eng')\n",
    "                                                    .str.replace('en-CA', 'eng')\n",
    "                                                    .str.replace('--', 'eng')\n",
    "                                                    .str.replace('nl', 'nld')\n",
    "                                )"
   ]
  },
  {
   "cell_type": "code",
   "execution_count": 7,
   "metadata": {},
   "outputs": [
    {
     "data": {
      "text/html": [
       "<div><style>\n",
       ".dataframe > thead > tr > th,\n",
       ".dataframe > tbody > tr > td {\n",
       "  text-align: right;\n",
       "}\n",
       "</style>\n",
       "<small>shape: (3, 2)</small><table border=\"1\" class=\"dataframe\"><thead><tr><th>Language</th><th>counts</th></tr><tr><td>str</td><td>u32</td></tr></thead><tbody><tr><td>&quot;vie&quot;</td><td>2</td></tr><tr><td>null</td><td>1598356</td></tr><tr><td>&quot;eng&quot;</td><td>209656</td></tr></tbody></table></div>"
      ],
      "text/plain": [
       "shape: (3, 2)\n",
       "┌──────────┬─────────┐\n",
       "│ Language ┆ counts  │\n",
       "│ ---      ┆ ---     │\n",
       "│ str      ┆ u32     │\n",
       "╞══════════╪═════════╡\n",
       "│ vie      ┆ 2       │\n",
       "│ null     ┆ 1598356 │\n",
       "│ eng      ┆ 209656  │\n",
       "└──────────┴─────────┘"
      ]
     },
     "execution_count": 7,
     "metadata": {},
     "output_type": "execute_result"
    }
   ],
   "source": [
    "books_df = books_df.filter((books_df['Language'] == 'eng') | (books_df['Language'] == 'vie') | books_df['Language'].is_null())\n",
    "books_df['Language'].value_counts()"
   ]
  },
  {
   "cell_type": "code",
   "execution_count": 8,
   "metadata": {},
   "outputs": [
    {
     "data": {
      "text/plain": [
       "(1808014, 20)"
      ]
     },
     "execution_count": 8,
     "metadata": {},
     "output_type": "execute_result"
    }
   ],
   "source": [
    "books_df.shape"
   ]
  },
  {
   "cell_type": "code",
   "execution_count": 9,
   "metadata": {},
   "outputs": [
    {
     "data": {
      "text/plain": [
       "(1803163, 20)"
      ]
     },
     "execution_count": 9,
     "metadata": {},
     "output_type": "execute_result"
    }
   ],
   "source": [
    "books_df = books_df.drop_nulls(\"ISBN\")\n",
    "books_df.shape"
   ]
  },
  {
   "cell_type": "code",
   "execution_count": 10,
   "metadata": {},
   "outputs": [
    {
     "data": {
      "text/plain": [
       "419030"
      ]
     },
     "execution_count": 10,
     "metadata": {},
     "output_type": "execute_result"
    }
   ],
   "source": [
    "books_df = books_df.sort('PagesNumber')\n",
    "n = books_df.filter(books_df['PagesNumber'] > 350).shape[0]\n",
    "n"
   ]
  },
  {
   "cell_type": "code",
   "execution_count": 11,
   "metadata": {},
   "outputs": [
    {
     "data": {
      "text/plain": [
       "(1384133, 20)"
      ]
     },
     "execution_count": 11,
     "metadata": {},
     "output_type": "execute_result"
    }
   ],
   "source": [
    "books_df = books_df[:len(books_df)-n]\n",
    "books_df.shape"
   ]
  },
  {
   "cell_type": "code",
   "execution_count": 12,
   "metadata": {},
   "outputs": [
    {
     "data": {
      "text/plain": [
       "(1245688, 20)"
      ]
     },
     "execution_count": 12,
     "metadata": {},
     "output_type": "execute_result"
    }
   ],
   "source": [
    "books_df = books_df.unique(subset=['Name'])\n",
    "books_df.shape"
   ]
  },
  {
   "cell_type": "code",
   "execution_count": 13,
   "metadata": {},
   "outputs": [
    {
     "data": {
      "text/html": [
       "<div><style>\n",
       ".dataframe > thead > tr > th,\n",
       ".dataframe > tbody > tr > td {\n",
       "  text-align: right;\n",
       "}\n",
       "</style>\n",
       "<small>shape: (1245688, 20)</small><table border=\"1\" class=\"dataframe\"><thead><tr><th>Id</th><th>Name</th><th>Authors</th><th>ISBN</th><th>Rating</th><th>PublishYear</th><th>PublishMonth</th><th>PublishDay</th><th>Publisher</th><th>RatingDist5</th><th>RatingDist4</th><th>RatingDist3</th><th>RatingDist2</th><th>RatingDist1</th><th>RatingDistTotal</th><th>CountsOfReview</th><th>Language</th><th>Description</th><th>Count of text reviews</th><th>PagesNumber</th></tr><tr><td>i64</td><td>str</td><td>str</td><td>str</td><td>f64</td><td>i64</td><td>i64</td><td>i64</td><td>str</td><td>str</td><td>str</td><td>str</td><td>str</td><td>str</td><td>str</td><td>i64</td><td>str</td><td>str</td><td>str</td><td>i64</td></tr></thead><tbody><tr><td>1900656</td><td>&quot;Good In Bed&quot;</td><td>&quot;Jennifer Weine…</td><td>&quot;0743508467&quot;</td><td>3.73</td><td>2001</td><td>5</td><td>1</td><td>&quot;Simon &amp; Schust…</td><td>&quot;5:78557&quot;</td><td>&quot;4:92923&quot;</td><td>&quot;3:71496&quot;</td><td>&quot;2:21959&quot;</td><td>&quot;1:13187&quot;</td><td>&quot;total:278122&quot;</td><td>0</td><td>null</td><td>&quot;Jennifer Weine…</td><td>null</td><td>0</td></tr><tr><td>1900780</td><td>&quot;Letters from N…</td><td>&quot;Christopher J.…</td><td>&quot;1400105390&quot;</td><td>3.62</td><td>2007</td><td>9</td><td>25</td><td>&quot;Tantor Media&quot;</td><td>&quot;5:28&quot;</td><td>&quot;4:70&quot;</td><td>&quot;3:50&quot;</td><td>&quot;2:15&quot;</td><td>&quot;1:4&quot;</td><td>&quot;total:167&quot;</td><td>1</td><td>null</td><td>&quot;Senator Christ…</td><td>null</td><td>0</td></tr><tr><td>1900805</td><td>&quot;Tuesdays With …</td><td>&quot;Mitch Albom&quot;</td><td>&quot;0739311115&quot;</td><td>4.11</td><td>2004</td><td>6</td><td>1</td><td>&quot;Random House A…</td><td>&quot;5:333959&quot;</td><td>&quot;4:249424&quot;</td><td>&quot;3:131086&quot;</td><td>&quot;2:36787&quot;</td><td>&quot;1:14351&quot;</td><td>&quot;total:765607&quot;</td><td>1</td><td>null</td><td>&quot;This true stor…</td><td>null</td><td>0</td></tr><tr><td>1902872</td><td>&quot;The Bicycle Bo…</td><td>&quot;Geoff Apps&quot;</td><td>&quot;051708743X&quot;</td><td>2.0</td><td>1993</td><td>2</td><td>14</td><td>&quot;Crescent&quot;</td><td>&quot;5:0&quot;</td><td>&quot;4:0&quot;</td><td>&quot;3:0&quot;</td><td>&quot;2:1&quot;</td><td>&quot;1:0&quot;</td><td>&quot;total:1&quot;</td><td>1</td><td>null</td><td>null</td><td>null</td><td>0</td></tr><tr><td>1903429</td><td>&quot;Fair-Weather L…</td><td>&quot;Carla Bracale&quot;</td><td>&quot;0804102406&quot;</td><td>3.61</td><td>1989</td><td>1</td><td>30</td><td>&quot;Ivy Books&quot;</td><td>&quot;5:21&quot;</td><td>&quot;4:15&quot;</td><td>&quot;3:24&quot;</td><td>&quot;2:11&quot;</td><td>&quot;1:1&quot;</td><td>&quot;total:72&quot;</td><td>0</td><td>null</td><td>&quot;Sink or swim..…</td><td>null</td><td>0</td></tr><tr><td>1903542</td><td>&quot;The Adversity …</td><td>&quot;Paul G. Stoltz…</td><td>&quot;1400103584&quot;</td><td>3.98</td><td>2007</td><td>1</td><td>1</td><td>&quot;Tantor Media&quot;</td><td>&quot;5:55&quot;</td><td>&quot;4:66&quot;</td><td>&quot;3:36&quot;</td><td>&quot;2:7&quot;</td><td>&quot;1:3&quot;</td><td>&quot;total:167&quot;</td><td>0</td><td>null</td><td>&quot;A &lt;i&gt;Wall Stre…</td><td>null</td><td>0</td></tr><tr><td>1904282</td><td>&quot;Tell The World…</td><td>&quot;Liu Binyan&quot;</td><td>&quot;0517088355&quot;</td><td>3.67</td><td>1992</td><td>8</td><td>16</td><td>&quot;Random House V…</td><td>&quot;5:1&quot;</td><td>&quot;4:4&quot;</td><td>&quot;3:4&quot;</td><td>&quot;2:0&quot;</td><td>&quot;1:0&quot;</td><td>&quot;total:9&quot;</td><td>1</td><td>null</td><td>null</td><td>null</td><td>0</td></tr><tr><td>1904406</td><td>&quot;Hh-Big Red Bar…</td><td>&quot;Happy House&quot;</td><td>&quot;0394823915&quot;</td><td>0.0</td><td>1989</td><td>4</td><td>19</td><td>&quot;Random House B…</td><td>&quot;5:0&quot;</td><td>&quot;4:0&quot;</td><td>&quot;3:0&quot;</td><td>&quot;2:0&quot;</td><td>&quot;1:0&quot;</td><td>&quot;total:0&quot;</td><td>0</td><td>null</td><td>null</td><td>null</td><td>0</td></tr><tr><td>1904941</td><td>&quot;The Fourth K&quot;</td><td>&quot;Mario Puzo&quot;</td><td>&quot;0679423427&quot;</td><td>3.58</td><td>1991</td><td>3</td><td>6</td><td>&quot;Random House A…</td><td>&quot;5:623&quot;</td><td>&quot;4:1085&quot;</td><td>&quot;3:1045&quot;</td><td>&quot;2:341&quot;</td><td>&quot;1:77&quot;</td><td>&quot;total:3171&quot;</td><td>0</td><td>null</td><td>&quot;&lt;b&gt;A PRESIDENT…</td><td>null</td><td>0</td></tr><tr><td>1905496</td><td>&quot;1988 Baseball …</td><td>&quot;Donruss, Fleer…</td><td>&quot;0517660431&quot;</td><td>0.0</td><td>1988</td><td>5</td><td>30</td><td>&quot;Beekman House&quot;</td><td>&quot;5:0&quot;</td><td>&quot;4:0&quot;</td><td>&quot;3:0&quot;</td><td>&quot;2:0&quot;</td><td>&quot;1:0&quot;</td><td>&quot;total:0&quot;</td><td>0</td><td>null</td><td>null</td><td>null</td><td>0</td></tr><tr><td>1905683</td><td>&quot;The Princess a…</td><td>&quot;George MacDona…</td><td>&quot;140015085X&quot;</td><td>4.07</td><td>2003</td><td>6</td><td>1</td><td>&quot;Tantor Media&quot;</td><td>&quot;5:3196&quot;</td><td>&quot;4:2851&quot;</td><td>&quot;3:1669&quot;</td><td>&quot;2:349&quot;</td><td>&quot;1:97&quot;</td><td>&quot;total:8162&quot;</td><td>0</td><td>null</td><td>&quot;In this sequel…</td><td>null</td><td>0</td></tr><tr><td>1905755</td><td>&quot;Our Only May A…</td><td>&quot;Jennifer L. Ho…</td><td>&quot;0807282340&quot;</td><td>3.82</td><td>2000</td><td>5</td><td>2</td><td>&quot;Listening Libr…</td><td>&quot;5:2178&quot;</td><td>&quot;4:2928&quot;</td><td>&quot;3:2062&quot;</td><td>&quot;2:506&quot;</td><td>&quot;1:169&quot;</td><td>&quot;total:7843&quot;</td><td>3</td><td>null</td><td>&quot;Twelve-year-ol…</td><td>null</td><td>0</td></tr><tr><td>&hellip;</td><td>&hellip;</td><td>&hellip;</td><td>&hellip;</td><td>&hellip;</td><td>&hellip;</td><td>&hellip;</td><td>&hellip;</td><td>&hellip;</td><td>&hellip;</td><td>&hellip;</td><td>&hellip;</td><td>&hellip;</td><td>&hellip;</td><td>&hellip;</td><td>&hellip;</td><td>&hellip;</td><td>&hellip;</td><td>&hellip;</td><td>&hellip;</td></tr><tr><td>1185341</td><td>&quot;The Illinois  …</td><td>&quot;Michael P. Con…</td><td>&quot;0875801285&quot;</td><td>3.5</td><td>1988</td><td>1</td><td>8</td><td>&quot;Northern Illin…</td><td>&quot;5:0&quot;</td><td>&quot;4:1&quot;</td><td>&quot;3:1&quot;</td><td>&quot;2:0&quot;</td><td>&quot;1:0&quot;</td><td>&quot;total:2&quot;</td><td>0</td><td>null</td><td>null</td><td>&quot;0&quot;</td><td>350</td></tr><tr><td>1185950</td><td>&quot;At the End of …</td><td>&quot;Carole Minard&quot;</td><td>&quot;141373801X&quot;</td><td>0.0</td><td>2004</td><td>12</td><td>6</td><td>&quot;America Star B…</td><td>&quot;5:0&quot;</td><td>&quot;4:0&quot;</td><td>&quot;3:0&quot;</td><td>&quot;2:0&quot;</td><td>&quot;1:0&quot;</td><td>&quot;total:0&quot;</td><td>0</td><td>null</td><td>&quot;After being hu…</td><td>&quot;0&quot;</td><td>350</td></tr><tr><td>1185963</td><td>&quot;Immigration In…</td><td>&quot;Donald J. Puch…</td><td>&quot;1855674513&quot;</td><td>0.0</td><td>1997</td><td>1</td><td>4</td><td>&quot;Cassell&quot;</td><td>&quot;5:0&quot;</td><td>&quot;4:0&quot;</td><td>&quot;3:0&quot;</td><td>&quot;2:0&quot;</td><td>&quot;1:0&quot;</td><td>&quot;total:0&quot;</td><td>0</td><td>null</td><td>&quot;The essays in …</td><td>&quot;0&quot;</td><td>350</td></tr><tr><td>1187409</td><td>&quot;Performance-Ba…</td><td>&quot;Joan Boykoff B…</td><td>&quot;0226038033&quot;</td><td>0.0</td><td>1996</td><td>12</td><td>4</td><td>&quot;The National S…</td><td>&quot;5:0&quot;</td><td>&quot;4:0&quot;</td><td>&quot;3:0&quot;</td><td>&quot;2:0&quot;</td><td>&quot;1:0&quot;</td><td>&quot;total:0&quot;</td><td>0</td><td>null</td><td>&quot;Reforming our …</td><td>&quot;0&quot;</td><td>350</td></tr><tr><td>1187807</td><td>&quot;Community Jour…</td><td>&quot;Jock Lauterer&quot;</td><td>&quot;0813802865&quot;</td><td>0.0</td><td>2000</td><td>17</td><td>4</td><td>&quot;Wiley-Blackwel…</td><td>&quot;5:0&quot;</td><td>&quot;4:0&quot;</td><td>&quot;3:0&quot;</td><td>&quot;2:0&quot;</td><td>&quot;1:0&quot;</td><td>&quot;total:0&quot;</td><td>0</td><td>null</td><td>null</td><td>&quot;0&quot;</td><td>350</td></tr><tr><td>1187954</td><td>&quot;I Am Dracula&quot;</td><td>&quot;C. Dean Anders…</td><td>&quot;0821760254&quot;</td><td>3.89</td><td>1998</td><td>1</td><td>10</td><td>&quot;Zebra&quot;</td><td>&quot;5:49&quot;</td><td>&quot;4:33&quot;</td><td>&quot;3:18&quot;</td><td>&quot;2:10&quot;</td><td>&quot;1:8&quot;</td><td>&quot;total:118&quot;</td><td>12</td><td>null</td><td>&quot;From the Carpa…</td><td>&quot;12&quot;</td><td>350</td></tr><tr><td>1194027</td><td>&quot;The Male Parad…</td><td>&quot;John Munder&quot;</td><td>&quot;0671705172&quot;</td><td>3.33</td><td>1992</td><td>1</td><td>10</td><td>&quot;Simon &amp; Schust…</td><td>&quot;5:0&quot;</td><td>&quot;4:1&quot;</td><td>&quot;3:2&quot;</td><td>&quot;2:0&quot;</td><td>&quot;1:0&quot;</td><td>&quot;total:3&quot;</td><td>1</td><td>null</td><td>&quot;In chapters dr…</td><td>&quot;1&quot;</td><td>350</td></tr><tr><td>1195221</td><td>&quot;The Lamentable…</td><td>&quot;Edgardo Vega Y…</td><td>&quot;1585676306&quot;</td><td>3.81</td><td>2004</td><td>1</td><td>11</td><td>&quot;Overlook Press…</td><td>&quot;5:27&quot;</td><td>&quot;4:33&quot;</td><td>&quot;3:22&quot;</td><td>&quot;2:5&quot;</td><td>&quot;1:4&quot;</td><td>&quot;total:91&quot;</td><td>1</td><td>null</td><td>&quot;&lt;br /&gt;Writing …</td><td>&quot;1&quot;</td><td>350</td></tr><tr><td>1195839</td><td>&quot;Catalogue of P…</td><td>&quot;Lane Poole&quot;</td><td>&quot;1851240764&quot;</td><td>0.0</td><td>2008</td><td>15</td><td>7</td><td>&quot;Bodleian Libra…</td><td>&quot;5:0&quot;</td><td>&quot;4:0&quot;</td><td>&quot;3:0&quot;</td><td>&quot;2:0&quot;</td><td>&quot;1:0&quot;</td><td>&quot;total:0&quot;</td><td>0</td><td>null</td><td>&quot;Fully illustra…</td><td>&quot;0&quot;</td><td>350</td></tr><tr><td>1198445</td><td>&quot;The Lancastria…</td><td>&quot;Simon Walker&quot;</td><td>&quot;0198201745&quot;</td><td>4.75</td><td>1990</td><td>31</td><td>12</td><td>&quot;Oxford Univers…</td><td>&quot;5:3&quot;</td><td>&quot;4:1&quot;</td><td>&quot;3:0&quot;</td><td>&quot;2:0&quot;</td><td>&quot;1:0&quot;</td><td>&quot;total:4&quot;</td><td>1</td><td>null</td><td>&quot;John of Gaunt …</td><td>&quot;1&quot;</td><td>350</td></tr><tr><td>1199215</td><td>&quot;Call to Arms (…</td><td>&quot;Livia Hallam&quot;</td><td>&quot;1581824793&quot;</td><td>0.0</td><td>2005</td><td>1</td><td>10</td><td>&quot;Cumberland Hou…</td><td>&quot;5:0&quot;</td><td>&quot;4:0&quot;</td><td>&quot;3:0&quot;</td><td>&quot;2:0&quot;</td><td>&quot;1:0&quot;</td><td>&quot;total:0&quot;</td><td>0</td><td>null</td><td>&quot;On December 20…</td><td>&quot;0&quot;</td><td>350</td></tr><tr><td>1199788</td><td>&quot;Hong Kong (Jak…</td><td>&quot;Stephen Coonts…</td><td>&quot;0312253397&quot;</td><td>3.87</td><td>2000</td><td>12</td><td>9</td><td>&quot;St. Martin&#x27;s P…</td><td>&quot;5:508&quot;</td><td>&quot;4:721&quot;</td><td>&quot;3:472&quot;</td><td>&quot;2:93&quot;</td><td>&quot;1:28&quot;</td><td>&quot;total:1822&quot;</td><td>49</td><td>&quot;eng&quot;</td><td>null</td><td>&quot;49&quot;</td><td>350</td></tr></tbody></table></div>"
      ],
      "text/plain": [
       "shape: (1245688, 20)\n",
       "┌─────────┬────────────┬───────────┬───────────┬───┬──────────┬───────────┬────────────┬───────────┐\n",
       "│ Id      ┆ Name       ┆ Authors   ┆ ISBN      ┆ … ┆ Language ┆ Descripti ┆ Count of   ┆ PagesNumb │\n",
       "│ ---     ┆ ---        ┆ ---       ┆ ---       ┆   ┆ ---      ┆ on        ┆ text       ┆ er        │\n",
       "│ i64     ┆ str        ┆ str       ┆ str       ┆   ┆ str      ┆ ---       ┆ reviews    ┆ ---       │\n",
       "│         ┆            ┆           ┆           ┆   ┆          ┆ str       ┆ ---        ┆ i64       │\n",
       "│         ┆            ┆           ┆           ┆   ┆          ┆           ┆ str        ┆           │\n",
       "╞═════════╪════════════╪═══════════╪═══════════╪═══╪══════════╪═══════════╪════════════╪═══════════╡\n",
       "│ 1900656 ┆ Good In    ┆ Jennifer  ┆ 074350846 ┆ … ┆ null     ┆ Jennifer  ┆ null       ┆ 0         │\n",
       "│         ┆ Bed        ┆ Weiner    ┆ 7         ┆   ┆          ┆ Weiner's  ┆            ┆           │\n",
       "│         ┆            ┆           ┆           ┆   ┆          ┆ <i>Good   ┆            ┆           │\n",
       "│         ┆            ┆           ┆           ┆   ┆          ┆ in Bed…   ┆            ┆           │\n",
       "│ 1900780 ┆ Letters    ┆ Christoph ┆ 140010539 ┆ … ┆ null     ┆ Senator   ┆ null       ┆ 0         │\n",
       "│         ┆ from       ┆ er J.     ┆ 0         ┆   ┆          ┆ Christoph ┆            ┆           │\n",
       "│         ┆ Nuremberg: ┆ Dodd      ┆           ┆   ┆          ┆ er J.     ┆            ┆           │\n",
       "│         ┆ My Fathe…  ┆           ┆           ┆   ┆          ┆ Dodd      ┆            ┆           │\n",
       "│         ┆            ┆           ┆           ┆   ┆          ┆ (Con…     ┆            ┆           │\n",
       "│ 1900805 ┆ Tuesdays   ┆ Mitch     ┆ 073931111 ┆ … ┆ null     ┆ This true ┆ null       ┆ 0         │\n",
       "│         ┆ With       ┆ Albom     ┆ 5         ┆   ┆          ┆ story     ┆            ┆           │\n",
       "│         ┆ Morrie: An ┆           ┆           ┆   ┆          ┆ about the ┆            ┆           │\n",
       "│         ┆ Old Man…   ┆           ┆           ┆   ┆          ┆ love b…   ┆            ┆           │\n",
       "│ 1902872 ┆ The        ┆ Geoff     ┆ 051708743 ┆ … ┆ null     ┆ null      ┆ null       ┆ 0         │\n",
       "│         ┆ Bicycle    ┆ Apps      ┆ X         ┆   ┆          ┆           ┆            ┆           │\n",
       "│         ┆ Book:      ┆           ┆           ┆   ┆          ┆           ┆            ┆           │\n",
       "│         ┆ Complete   ┆           ┆           ┆   ┆          ┆           ┆            ┆           │\n",
       "│         ┆ Maint…     ┆           ┆           ┆   ┆          ┆           ┆            ┆           │\n",
       "│ …       ┆ …          ┆ …         ┆ …         ┆ … ┆ …        ┆ …         ┆ …          ┆ …         │\n",
       "│ 1195839 ┆ Catalogue  ┆ Lane      ┆ 185124076 ┆ … ┆ null     ┆ Fully ill ┆ 0          ┆ 350       │\n",
       "│         ┆ of         ┆ Poole     ┆ 4         ┆   ┆          ┆ ustrated, ┆            ┆           │\n",
       "│         ┆ Portraits  ┆           ┆           ┆   ┆          ┆ with      ┆            ┆           │\n",
       "│         ┆ in the Bo… ┆           ┆           ┆   ┆          ┆ full-pag… ┆            ┆           │\n",
       "│ 1198445 ┆ The Lancas ┆ Simon     ┆ 019820174 ┆ … ┆ null     ┆ John of   ┆ 1          ┆ 350       │\n",
       "│         ┆ trian      ┆ Walker    ┆ 5         ┆   ┆          ┆ Gaunt was ┆            ┆           │\n",
       "│         ┆ Affinity   ┆           ┆           ┆   ┆          ┆ arguably  ┆            ┆           │\n",
       "│         ┆ 1361 13…   ┆           ┆           ┆   ┆          ┆ the m…    ┆            ┆           │\n",
       "│ 1199215 ┆ Call to    ┆ Livia     ┆ 158182479 ┆ … ┆ null     ┆ On        ┆ 0          ┆ 350       │\n",
       "│         ┆ Arms       ┆ Hallam    ┆ 3         ┆   ┆          ┆ December  ┆            ┆           │\n",
       "│         ┆ (Palmetto  ┆           ┆           ┆   ┆          ┆ 20, 1860, ┆            ┆           │\n",
       "│         ┆ Trilogy, … ┆           ┆           ┆   ┆          ┆ two       ┆            ┆           │\n",
       "│         ┆            ┆           ┆           ┆   ┆          ┆ friend…   ┆            ┆           │\n",
       "│ 1199788 ┆ Hong Kong  ┆ Stephen   ┆ 031225339 ┆ … ┆ eng      ┆ null      ┆ 49         ┆ 350       │\n",
       "│         ┆ (Jake      ┆ Coonts    ┆ 7         ┆   ┆          ┆           ┆            ┆           │\n",
       "│         ┆ Grafton    ┆           ┆           ┆   ┆          ┆           ┆            ┆           │\n",
       "│         ┆ #8)        ┆           ┆           ┆   ┆          ┆           ┆            ┆           │\n",
       "└─────────┴────────────┴───────────┴───────────┴───┴──────────┴───────────┴────────────┴───────────┘"
      ]
     },
     "execution_count": 13,
     "metadata": {},
     "output_type": "execute_result"
    }
   ],
   "source": [
    "books_df"
   ]
  },
  {
   "cell_type": "code",
   "execution_count": 14,
   "metadata": {},
   "outputs": [
    {
     "data": {
      "text/plain": [
       "(1245577, 20)"
      ]
     },
     "execution_count": 14,
     "metadata": {},
     "output_type": "execute_result"
    }
   ],
   "source": [
    "books_df = books_df.filter((books_df['PublishYear'] >= 1900) & (books_df['PublishYear'] <= 2021))\n",
    "books_df.shape"
   ]
  },
  {
   "cell_type": "code",
   "execution_count": 15,
   "metadata": {},
   "outputs": [
    {
     "data": {
      "text/plain": [
       "0"
      ]
     },
     "execution_count": 15,
     "metadata": {},
     "output_type": "execute_result"
    }
   ],
   "source": [
    "books_df['PublishYear'].null_count()"
   ]
  },
  {
   "cell_type": "code",
   "execution_count": 23,
   "metadata": {},
   "outputs": [
    {
     "data": {
      "text/html": [
       "<div><style>\n",
       ".dataframe > thead > tr > th,\n",
       ".dataframe > tbody > tr > td {\n",
       "  text-align: right;\n",
       "}\n",
       "</style>\n",
       "<small>shape: (31, 2)</small><table border=\"1\" class=\"dataframe\"><thead><tr><th>PublishMonth</th><th>counts</th></tr><tr><td>i64</td><td>u32</td></tr></thead><tbody><tr><td>8</td><td>52984</td></tr><tr><td>24</td><td>7843</td></tr><tr><td>16</td><td>6727</td></tr><tr><td>7</td><td>49209</td></tr><tr><td>31</td><td>17359</td></tr><tr><td>15</td><td>23649</td></tr><tr><td>23</td><td>7297</td></tr><tr><td>6</td><td>56532</td></tr><tr><td>14</td><td>7193</td></tr><tr><td>22</td><td>7444</td></tr><tr><td>30</td><td>13765</td></tr><tr><td>21</td><td>7584</td></tr><tr><td>&hellip;</td><td>&hellip;</td></tr><tr><td>19</td><td>7474</td></tr><tr><td>11</td><td>50881</td></tr><tr><td>27</td><td>7896</td></tr><tr><td>3</td><td>60740</td></tr><tr><td>26</td><td>7817</td></tr><tr><td>2</td><td>49068</td></tr><tr><td>10</td><td>62994</td></tr><tr><td>18</td><td>6916</td></tr><tr><td>25</td><td>9656</td></tr><tr><td>9</td><td>65666</td></tr><tr><td>1</td><td>415458</td></tr><tr><td>17</td><td>10259</td></tr></tbody></table></div>"
      ],
      "text/plain": [
       "shape: (31, 2)\n",
       "┌──────────────┬────────┐\n",
       "│ PublishMonth ┆ counts │\n",
       "│ ---          ┆ ---    │\n",
       "│ i64          ┆ u32    │\n",
       "╞══════════════╪════════╡\n",
       "│ 8            ┆ 52984  │\n",
       "│ 24           ┆ 7843   │\n",
       "│ 16           ┆ 6727   │\n",
       "│ 7            ┆ 49209  │\n",
       "│ …            ┆ …      │\n",
       "│ 25           ┆ 9656   │\n",
       "│ 9            ┆ 65666  │\n",
       "│ 1            ┆ 415458 │\n",
       "│ 17           ┆ 10259  │\n",
       "└──────────────┴────────┘"
      ]
     },
     "execution_count": 23,
     "metadata": {},
     "output_type": "execute_result"
    }
   ],
   "source": [
    "books_df['PublishMonth'].value_counts()"
   ]
  }
 ],
 "metadata": {
  "kernelspec": {
   "display_name": "project-zhl6RxJh",
   "language": "python",
   "name": "python3"
  },
  "language_info": {
   "codemirror_mode": {
    "name": "ipython",
    "version": 3
   },
   "file_extension": ".py",
   "mimetype": "text/x-python",
   "name": "python",
   "nbconvert_exporter": "python",
   "pygments_lexer": "ipython3",
   "version": "3.10.6"
  },
  "orig_nbformat": 4
 },
 "nbformat": 4,
 "nbformat_minor": 2
}
